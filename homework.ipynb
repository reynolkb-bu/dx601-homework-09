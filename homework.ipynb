{
 "cells": [
  {
   "cell_type": "markdown",
   "metadata": {},
   "source": [
    "# DX 601 Week 9 Homework"
   ]
  },
  {
   "cell_type": "markdown",
   "metadata": {},
   "source": [
    "## Introduction\n",
    "\n",
    "In this homework, you will practice basic operations with vectors and matrices."
   ]
  },
  {
   "cell_type": "markdown",
   "metadata": {},
   "source": [
    "## Example Code\n",
    "\n",
    "You may find it helpful to refer to this GitHub repository of Jupyter notebooks for example code.\n",
    "\n",
    "* https://github.com/bu-cds-omds/dx500-examples\n",
    "* https://github.com/bu-cds-omds/dx601-examples\n",
    "* https://github.com/bu-cds-omds/dx602-examples\n",
    "\n",
    "Any calculations demonstrated in code examples or videos may be found in these notebooks, and you are allowed to copy this example code in your homework answers."
   ]
  },
  {
   "cell_type": "markdown",
   "metadata": {},
   "source": [
    "## Shared Imports\n",
    "\n",
    "Do not install or use any additional modules.\n",
    "Installing additional modules may result in an autograder failure resulting in zero points for some or all problems."
   ]
  },
  {
   "cell_type": "code",
   "metadata": {
    "ExecuteTime": {
     "end_time": "2025-10-20T13:46:11.512804Z",
     "start_time": "2025-10-20T13:46:11.509851Z"
    }
   },
   "source": [
    "import math\n",
    "import sys"
   ],
   "outputs": [],
   "execution_count": 1
  },
  {
   "cell_type": "code",
   "metadata": {
    "ExecuteTime": {
     "end_time": "2025-10-20T13:46:24.651893Z",
     "start_time": "2025-10-20T13:46:14.055717Z"
    }
   },
   "source": [
    "import matplotlib.pyplot as plt\n",
    "import numpy as np\n",
    "import pandas as pd"
   ],
   "outputs": [],
   "execution_count": 2
  },
  {
   "cell_type": "markdown",
   "metadata": {},
   "source": [
    "## Problems"
   ]
  },
  {
   "cell_type": "markdown",
   "metadata": {},
   "source": [
    "### Problem 1\n",
    "\n",
    "Set `p1` to the vector from calculating $[0.0, 0.3, 0.65] + [2.2, 6.2, 0.35]$."
   ]
  },
  {
   "cell_type": "code",
   "metadata": {
    "ExecuteTime": {
     "end_time": "2025-10-20T13:48:47.825732Z",
     "start_time": "2025-10-20T13:48:47.823425Z"
    }
   },
   "source": [
    "# YOUR CHANGES HERE\n",
    "\n",
    "v1 = np.array([0.0, 0.3, 0.65])\n",
    "v2 = np.array([2.2, 6.2, 0.35])\n",
    "\n",
    "p1 = v1 + v2"
   ],
   "outputs": [],
   "execution_count": 3
  },
  {
   "cell_type": "code",
   "metadata": {
    "ExecuteTime": {
     "end_time": "2025-10-20T13:48:48.854936Z",
     "start_time": "2025-10-20T13:48:48.850989Z"
    }
   },
   "source": [
    "p1"
   ],
   "outputs": [
    {
     "data": {
      "text/plain": [
       "array([2.2, 6.5, 1. ])"
      ]
     },
     "execution_count": 4,
     "metadata": {},
     "output_type": "execute_result"
    }
   ],
   "execution_count": 4
  },
  {
   "cell_type": "markdown",
   "metadata": {},
   "source": [
    "### Problem 2\n",
    "\n",
    "Set `p2` to the magnitude of the vector $[1, 3, 6]$?"
   ]
  },
  {
   "cell_type": "code",
   "metadata": {
    "ExecuteTime": {
     "end_time": "2025-10-20T13:50:07.623172Z",
     "start_time": "2025-10-20T13:50:07.620682Z"
    }
   },
   "source": [
    "# YOUR CHANGES HERE\n",
    "\n",
    "v1 = np.array([1, 3, 6])\n",
    "\n",
    "p2 = np.linalg.norm(v1)"
   ],
   "outputs": [],
   "execution_count": 5
  },
  {
   "cell_type": "code",
   "metadata": {
    "ExecuteTime": {
     "end_time": "2025-10-20T13:50:08.970602Z",
     "start_time": "2025-10-20T13:50:08.967912Z"
    }
   },
   "source": [
    "p2"
   ],
   "outputs": [
    {
     "data": {
      "text/plain": [
       "np.float64(6.782329983125268)"
      ]
     },
     "execution_count": 6,
     "metadata": {},
     "output_type": "execute_result"
    }
   ],
   "execution_count": 6
  },
  {
   "cell_type": "markdown",
   "metadata": {},
   "source": [
    "### Problem 3\n",
    "\n",
    "Set `p3` to the magnitude of the vector `q3`."
   ]
  },
  {
   "cell_type": "code",
   "metadata": {
    "ExecuteTime": {
     "end_time": "2025-10-20T13:50:40.042228Z",
     "start_time": "2025-10-20T13:50:40.039686Z"
    }
   },
   "source": [
    "# DO NOT CHANGE\n",
    "\n",
    "q3 = np.asarray([5.2, 5.9, 9.1, 4.3, 2.9])\n",
    "q3"
   ],
   "outputs": [
    {
     "data": {
      "text/plain": [
       "array([5.2, 5.9, 9.1, 4.3, 2.9])"
      ]
     },
     "execution_count": 7,
     "metadata": {},
     "output_type": "execute_result"
    }
   ],
   "execution_count": 7
  },
  {
   "cell_type": "code",
   "metadata": {
    "ExecuteTime": {
     "end_time": "2025-10-20T13:50:47.412125Z",
     "start_time": "2025-10-20T13:50:47.410293Z"
    }
   },
   "source": [
    "# YOUR CHANGES HERE\n",
    "\n",
    "p3 = np.linalg.norm(q3)"
   ],
   "outputs": [],
   "execution_count": 8
  },
  {
   "cell_type": "code",
   "metadata": {
    "ExecuteTime": {
     "end_time": "2025-10-20T13:50:48.779350Z",
     "start_time": "2025-10-20T13:50:48.776513Z"
    }
   },
   "source": [
    "p3"
   ],
   "outputs": [
    {
     "data": {
      "text/plain": [
       "np.float64(13.098091464026353)"
      ]
     },
     "execution_count": 9,
     "metadata": {},
     "output_type": "execute_result"
    }
   ],
   "execution_count": 9
  },
  {
   "cell_type": "markdown",
   "metadata": {},
   "source": [
    "### Problem 4\n",
    "\n",
    "Set `p4` to the dot product of $[2, 0, 3]$ and $[0, 4, 1]$."
   ]
  },
  {
   "cell_type": "markdown",
   "metadata": {},
   "source": [
    "Hint: this should feel like a really easy case to just do in your head."
   ]
  },
  {
   "cell_type": "code",
   "metadata": {
    "ExecuteTime": {
     "end_time": "2025-10-20T13:52:40.997855Z",
     "start_time": "2025-10-20T13:52:40.995454Z"
    }
   },
   "source": [
    "# YOUR CHANGES HERE\n",
    "\n",
    "v1 = np.array([2, 0, 3])\n",
    "v2 = np.array([0, 4, 1])\n",
    "\n",
    "p4 = v1 @ v2"
   ],
   "outputs": [],
   "execution_count": 10
  },
  {
   "cell_type": "code",
   "metadata": {
    "ExecuteTime": {
     "end_time": "2025-10-20T13:52:42.536799Z",
     "start_time": "2025-10-20T13:52:42.534078Z"
    }
   },
   "source": [
    "p4"
   ],
   "outputs": [
    {
     "data": {
      "text/plain": [
       "np.int64(3)"
      ]
     },
     "execution_count": 11,
     "metadata": {},
     "output_type": "execute_result"
    }
   ],
   "execution_count": 11
  },
  {
   "cell_type": "markdown",
   "metadata": {},
   "source": [
    "### Problem 5\n",
    "\n",
    "Set `p5` to the element-wise product of `u5` and `v5`."
   ]
  },
  {
   "cell_type": "markdown",
   "metadata": {},
   "source": [
    "Hint: the default behavior of mathematical operations on NumPy arrays is to calculate on an element-wise basis."
   ]
  },
  {
   "cell_type": "code",
   "metadata": {
    "ExecuteTime": {
     "end_time": "2025-10-20T13:55:38.040472Z",
     "start_time": "2025-10-20T13:55:38.037395Z"
    }
   },
   "source": [
    "# DO NOT CHANGE\n",
    "\n",
    "u5 = np.asarray([5, 5, 5])\n",
    "u5"
   ],
   "outputs": [
    {
     "data": {
      "text/plain": [
       "array([5, 5, 5])"
      ]
     },
     "execution_count": 12,
     "metadata": {},
     "output_type": "execute_result"
    }
   ],
   "execution_count": 12
  },
  {
   "cell_type": "code",
   "metadata": {
    "ExecuteTime": {
     "end_time": "2025-10-20T13:55:39.292753Z",
     "start_time": "2025-10-20T13:55:39.290227Z"
    }
   },
   "source": [
    "# DO NOT CHANGE\n",
    "\n",
    "v5 = np.asarray([1, 6, 2])\n",
    "v5"
   ],
   "outputs": [
    {
     "data": {
      "text/plain": [
       "array([1, 6, 2])"
      ]
     },
     "execution_count": 13,
     "metadata": {},
     "output_type": "execute_result"
    }
   ],
   "execution_count": 13
  },
  {
   "cell_type": "code",
   "metadata": {
    "ExecuteTime": {
     "end_time": "2025-10-20T13:58:16.230111Z",
     "start_time": "2025-10-20T13:58:16.228308Z"
    }
   },
   "source": [
    "# YOUR CHANGES HERE\n",
    "\n",
    "p5 = u5 * v5"
   ],
   "outputs": [],
   "execution_count": 14
  },
  {
   "cell_type": "code",
   "metadata": {
    "ExecuteTime": {
     "end_time": "2025-10-20T13:58:17.412169Z",
     "start_time": "2025-10-20T13:58:17.409456Z"
    }
   },
   "source": [
    "p5"
   ],
   "outputs": [
    {
     "data": {
      "text/plain": [
       "array([ 5, 30, 10])"
      ]
     },
     "execution_count": 15,
     "metadata": {},
     "output_type": "execute_result"
    }
   ],
   "execution_count": 15
  },
  {
   "cell_type": "markdown",
   "metadata": {},
   "source": [
    "### Problem 6\n",
    "\n",
    "Set `p6` to the dot product of `u6` and `v6`."
   ]
  },
  {
   "cell_type": "code",
   "metadata": {
    "ExecuteTime": {
     "end_time": "2025-10-20T13:58:21.217434Z",
     "start_time": "2025-10-20T13:58:21.214112Z"
    }
   },
   "source": [
    "# DO NOT CHANGE\n",
    "\n",
    "u6 = np.asarray([2.03, 0.40, 1.35, 9.26, 4.23])\n",
    "u6"
   ],
   "outputs": [
    {
     "data": {
      "text/plain": [
       "array([2.03, 0.4 , 1.35, 9.26, 4.23])"
      ]
     },
     "execution_count": 16,
     "metadata": {},
     "output_type": "execute_result"
    }
   ],
   "execution_count": 16
  },
  {
   "cell_type": "code",
   "metadata": {
    "ExecuteTime": {
     "end_time": "2025-10-20T13:58:22.372988Z",
     "start_time": "2025-10-20T13:58:22.369840Z"
    }
   },
   "source": [
    "# DO NOT CHANGE\n",
    "\n",
    "v6 = np.asarray([1.32, 0.96, 2.35, 1.23, 0.25])\n",
    "v6"
   ],
   "outputs": [
    {
     "data": {
      "text/plain": [
       "array([1.32, 0.96, 2.35, 1.23, 0.25])"
      ]
     },
     "execution_count": 17,
     "metadata": {},
     "output_type": "execute_result"
    }
   ],
   "execution_count": 17
  },
  {
   "cell_type": "code",
   "metadata": {
    "ExecuteTime": {
     "end_time": "2025-10-20T13:58:30.007264Z",
     "start_time": "2025-10-20T13:58:30.005449Z"
    }
   },
   "source": [
    "# YOUR CHANGES HERE\n",
    "\n",
    "p6 = u6 @ v6"
   ],
   "outputs": [],
   "execution_count": 18
  },
  {
   "cell_type": "code",
   "metadata": {
    "ExecuteTime": {
     "end_time": "2025-10-20T13:58:31.922190Z",
     "start_time": "2025-10-20T13:58:31.919148Z"
    }
   },
   "source": [
    "p6"
   ],
   "outputs": [
    {
     "data": {
      "text/plain": [
       "np.float64(18.6834)"
      ]
     },
     "execution_count": 19,
     "metadata": {},
     "output_type": "execute_result"
    }
   ],
   "execution_count": 19
  },
  {
   "cell_type": "markdown",
   "metadata": {},
   "source": [
    "### Problem 7\n",
    "\n",
    "Set `p7` to the cosine similarity of `u7` and `v7`."
   ]
  },
  {
   "cell_type": "code",
   "metadata": {
    "ExecuteTime": {
     "end_time": "2025-10-20T14:09:26.972780Z",
     "start_time": "2025-10-20T14:09:26.969949Z"
    }
   },
   "source": [
    "# DO NOT CHANGE\n",
    "\n",
    "u7 = np.asarray([1, 1, 1, 1])\n",
    "u7"
   ],
   "outputs": [
    {
     "data": {
      "text/plain": [
       "array([1, 1, 1, 1])"
      ]
     },
     "execution_count": 21,
     "metadata": {},
     "output_type": "execute_result"
    }
   ],
   "execution_count": 21
  },
  {
   "cell_type": "code",
   "metadata": {
    "ExecuteTime": {
     "end_time": "2025-10-20T14:09:28.298271Z",
     "start_time": "2025-10-20T14:09:28.295889Z"
    }
   },
   "source": [
    "# DO NOT CHANGE\n",
    "\n",
    "v7 = np.asarray([0, 2, 0, 0])\n",
    "v7"
   ],
   "outputs": [
    {
     "data": {
      "text/plain": [
       "array([0, 2, 0, 0])"
      ]
     },
     "execution_count": 22,
     "metadata": {},
     "output_type": "execute_result"
    }
   ],
   "execution_count": 22
  },
  {
   "cell_type": "code",
   "metadata": {
    "ExecuteTime": {
     "end_time": "2025-10-20T14:09:29.197876Z",
     "start_time": "2025-10-20T14:09:29.195456Z"
    }
   },
   "source": [
    "# YOUR CHANGES HERE\n",
    "\n",
    "def cosine_similarity(a, b):\n",
    "    dot_product = a @ b\n",
    "    magnitude_a = np.linalg.norm(a)\n",
    "    magnitude_b = np.linalg.norm(b)\n",
    "    return dot_product / (magnitude_a * magnitude_b)\n",
    "\n",
    "p7 = cosine_similarity(u7, v7)"
   ],
   "outputs": [],
   "execution_count": 23
  },
  {
   "cell_type": "code",
   "metadata": {
    "ExecuteTime": {
     "end_time": "2025-10-20T14:09:30.376297Z",
     "start_time": "2025-10-20T14:09:30.373751Z"
    }
   },
   "source": [
    "p7"
   ],
   "outputs": [
    {
     "data": {
      "text/plain": [
       "np.float64(0.5)"
      ]
     },
     "execution_count": 24,
     "metadata": {},
     "output_type": "execute_result"
    }
   ],
   "execution_count": 24
  },
  {
   "cell_type": "markdown",
   "metadata": {},
   "source": [
    "### Problem 8\n",
    "\n",
    "Set `p8` to the vector $[x, y]$ corresponding to the polar coordinates $(r, \\theta) = (1, 1)$."
   ]
  },
  {
   "cell_type": "code",
   "metadata": {
    "ExecuteTime": {
     "end_time": "2025-10-20T14:34:54.312537Z",
     "start_time": "2025-10-20T14:34:54.310087Z"
    }
   },
   "source": [
    "# YOUR CHANGES HERE\n",
    "\n",
    "r = 1\n",
    "theta = np.radians(1)\n",
    "\n",
    "x = r * np.cos(theta)\n",
    "y = r * np.sin(theta)\n",
    "\n",
    "p8 = np.array([x, y])"
   ],
   "outputs": [],
   "execution_count": 27
  },
  {
   "cell_type": "code",
   "metadata": {
    "ExecuteTime": {
     "end_time": "2025-10-20T14:34:57.505275Z",
     "start_time": "2025-10-20T14:34:57.502430Z"
    }
   },
   "source": [
    "p8"
   ],
   "outputs": [
    {
     "data": {
      "text/plain": [
       "array([0.9998477 , 0.01745241])"
      ]
     },
     "execution_count": 28,
     "metadata": {},
     "output_type": "execute_result"
    }
   ],
   "execution_count": 28
  },
  {
   "cell_type": "markdown",
   "metadata": {},
   "source": [
    "### Problem 9\n",
    "\n",
    "Set `p9` to the scalar-vector product $3.1 \\cdot [1.31, 2.06, 9.56, 1.79]$."
   ]
  },
  {
   "cell_type": "code",
   "execution_count": null,
   "metadata": {},
   "outputs": [],
   "source": [
    "# YOUR CHANGES HERE\n",
    "\n",
    "p9 = ..."
   ]
  },
  {
   "cell_type": "code",
   "execution_count": null,
   "metadata": {},
   "outputs": [],
   "source": [
    "p9"
   ]
  },
  {
   "cell_type": "markdown",
   "metadata": {},
   "source": [
    "### Problem 10\n",
    "\n",
    "Set `p10` to be a unit vector in the same direction as $[1.31, 2.13, -0.92]$.\n"
   ]
  },
  {
   "cell_type": "code",
   "execution_count": null,
   "metadata": {},
   "outputs": [],
   "source": [
    "# YOUR CHANGES HERE\n",
    "\n",
    "p10 = ..."
   ]
  },
  {
   "cell_type": "code",
   "execution_count": null,
   "metadata": {},
   "outputs": [],
   "source": [
    "p10"
   ]
  },
  {
   "cell_type": "markdown",
   "metadata": {},
   "source": [
    "### Problem 11\n",
    "\n",
    "Set `p11` to be the first of the following vectors that is orthogonal to $[1, 0, 0]$.\n",
    "\n",
    "* $[1, 1, 1]$\n",
    "* $[0.5, 1, 1]$\n",
    "* $[0, 1, 1]$\n",
    "* $[1, 0, 1]$"
   ]
  },
  {
   "cell_type": "code",
   "execution_count": 40,
   "metadata": {},
   "outputs": [],
   "source": [
    "p11 = ..."
   ]
  },
  {
   "cell_type": "code",
   "execution_count": null,
   "metadata": {},
   "outputs": [],
   "source": [
    "p11"
   ]
  },
  {
   "cell_type": "markdown",
   "metadata": {},
   "source": [
    "### Problem 12\n",
    "\n",
    "Set `p12` to the first vector in the following list which is linearly dependent on the previous vectors.\n",
    "\n",
    "* $[0, 1, 1]$\n",
    "* $[0, 0, 1]$\n",
    "* $[1, 0, 1]$\n",
    "* $[1, 1, 1]$"
   ]
  },
  {
   "cell_type": "code",
   "execution_count": null,
   "metadata": {},
   "outputs": [],
   "source": [
    "# YOUR CHANGES HERE\n",
    "\n",
    "p12 = ..."
   ]
  },
  {
   "cell_type": "code",
   "execution_count": null,
   "metadata": {},
   "outputs": [],
   "source": [
    "p12"
   ]
  },
  {
   "cell_type": "markdown",
   "metadata": {},
   "source": [
    "### Problem 13\n",
    "\n",
    "Set `p13` to the $3 \\times 3$ identity matrix."
   ]
  },
  {
   "cell_type": "code",
   "execution_count": null,
   "metadata": {},
   "outputs": [],
   "source": [
    "# YOUR CHANGES HERE\n",
    "\n",
    "p13 = ..."
   ]
  },
  {
   "cell_type": "code",
   "execution_count": null,
   "metadata": {},
   "outputs": [],
   "source": [
    "p13"
   ]
  },
  {
   "cell_type": "markdown",
   "metadata": {},
   "source": [
    "### Problem 14\n",
    "\n",
    "Set `p14` to the x intercept of the equation $3y + 5x = 2$."
   ]
  },
  {
   "cell_type": "code",
   "metadata": {
    "ExecuteTime": {
     "end_time": "2025-10-20T14:38:18.602544Z",
     "start_time": "2025-10-20T14:38:18.601045Z"
    }
   },
   "source": [
    "# YOUR CHANGES HERE\n",
    "\n",
    "p14 = 2/3"
   ],
   "outputs": [],
   "execution_count": 29
  },
  {
   "cell_type": "code",
   "metadata": {
    "ExecuteTime": {
     "end_time": "2025-10-20T14:38:19.729021Z",
     "start_time": "2025-10-20T14:38:19.726701Z"
    }
   },
   "source": [
    "p14"
   ],
   "outputs": [
    {
     "data": {
      "text/plain": [
       "0.6666666666666666"
      ]
     },
     "execution_count": 30,
     "metadata": {},
     "output_type": "execute_result"
    }
   ],
   "execution_count": 30
  },
  {
   "cell_type": "markdown",
   "metadata": {},
   "source": [
    "### Problem 15\n",
    "\n",
    "Given the dictionary of phrases and vectors in `q15`, set `p15` to the phrase (key) whose vector has the highest cosine similarity with $[0.1, 0.5, 0.2]$."
   ]
  },
  {
   "cell_type": "code",
   "execution_count": 34,
   "metadata": {},
   "outputs": [
    {
     "data": {
      "text/plain": [
       "{'cat': array([0.1, 0.6, 0.3]),\n",
       " 'dog': array([0.2, 0.5, 0.1]),\n",
       " 'elephant': array([-0.3,  0.2,  0.5]),\n",
       " 'giraffe': array([-0.4,  0.3, -0.1]),\n",
       " 'lion': array([0.1, 0.7, 0.2])}"
      ]
     },
     "execution_count": 34,
     "metadata": {},
     "output_type": "execute_result"
    }
   ],
   "source": [
    "# DO NOT CHANGE\n",
    "\n",
    "q15 = {\n",
    "    \"cat\": [0.1, 0.6, 0.3],\n",
    "    \"dog\": [0.2, 0.5, 0.1],\n",
    "    \"elephant\": [-0.3, 0.2, 0.5],\n",
    "    \"giraffe\": [-0.4, 0.3, -0.1],\n",
    "    \"lion\": [0.1, 0.7, 0.2]\n",
    "}\n",
    "q15 = {k: np.asarray(v) for k, v in q15.items()}\n",
    "\n",
    "q15"
   ]
  },
  {
   "cell_type": "code",
   "execution_count": 35,
   "metadata": {},
   "outputs": [],
   "source": [
    "# YOUR CHANGES HERE\n",
    "\n",
    "p15 = ..."
   ]
  },
  {
   "cell_type": "code",
   "execution_count": 36,
   "metadata": {},
   "outputs": [
    {
     "data": {
      "text/plain": [
       "Ellipsis"
      ]
     },
     "execution_count": 36,
     "metadata": {},
     "output_type": "execute_result"
    }
   ],
   "source": [
    "p15"
   ]
  },
  {
   "cell_type": "markdown",
   "metadata": {},
   "source": [
    "### Problem 16\n",
    "\n",
    "Rescale the vectors $[2, 0, 0, 0]$ and $[0, 1, 1, 1]$ so that they are orthonormal.\n",
    "\n",
    "Save the first rescaled vector in `p16a` and the second rescaled vector in `p16b`."
   ]
  },
  {
   "cell_type": "code",
   "execution_count": 37,
   "metadata": {},
   "outputs": [],
   "source": [
    "# YOUR CHANGES HERE\n",
    "\n",
    "p16a = ..."
   ]
  },
  {
   "cell_type": "code",
   "execution_count": null,
   "metadata": {},
   "outputs": [],
   "source": [
    "p16a"
   ]
  },
  {
   "cell_type": "code",
   "execution_count": 38,
   "metadata": {},
   "outputs": [],
   "source": [
    "# YOUR CHANGES HERE\n",
    "\n",
    "p16b = ..."
   ]
  },
  {
   "cell_type": "code",
   "execution_count": null,
   "metadata": {},
   "outputs": [],
   "source": [
    "p16b"
   ]
  },
  {
   "cell_type": "markdown",
   "metadata": {},
   "source": [
    "### Problem 17\n",
    "\n",
    "Set `p17` to the result of the matrix multiplication of `x17` by `y17`."
   ]
  },
  {
   "cell_type": "markdown",
   "metadata": {},
   "source": [
    "Hint: NumPy has a function for matrix multiplication, and also overrides the Python @ operator."
   ]
  },
  {
   "cell_type": "code",
   "metadata": {
    "ExecuteTime": {
     "end_time": "2025-10-20T14:38:41.535205Z",
     "start_time": "2025-10-20T14:38:41.532576Z"
    }
   },
   "source": [
    "# DO NOT CHANGE\n",
    "\n",
    "x17 = np.array([[0.2, 3.1, 0.6], [-2.9, 2.3, 4.2], [3.0, 4.5, 1.7]])\n",
    "x17"
   ],
   "outputs": [
    {
     "data": {
      "text/plain": [
       "array([[ 0.2,  3.1,  0.6],\n",
       "       [-2.9,  2.3,  4.2],\n",
       "       [ 3. ,  4.5,  1.7]])"
      ]
     },
     "execution_count": 31,
     "metadata": {},
     "output_type": "execute_result"
    }
   ],
   "execution_count": 31
  },
  {
   "cell_type": "code",
   "metadata": {
    "ExecuteTime": {
     "end_time": "2025-10-20T14:38:43.523244Z",
     "start_time": "2025-10-20T14:38:43.520411Z"
    }
   },
   "source": [
    "# DO NOT CHANGE\n",
    "\n",
    "y17 = np.array([[1, 2, 3], [6, 5, 4], [7, 8, 9]])\n",
    "y17"
   ],
   "outputs": [
    {
     "data": {
      "text/plain": [
       "array([[1, 2, 3],\n",
       "       [6, 5, 4],\n",
       "       [7, 8, 9]])"
      ]
     },
     "execution_count": 32,
     "metadata": {},
     "output_type": "execute_result"
    }
   ],
   "execution_count": 32
  },
  {
   "cell_type": "code",
   "metadata": {
    "ExecuteTime": {
     "end_time": "2025-10-20T14:38:54.884995Z",
     "start_time": "2025-10-20T14:38:54.883396Z"
    }
   },
   "source": [
    "# YOUR CHANGES HERE\n",
    "\n",
    "p17 = x17 @ y17"
   ],
   "outputs": [],
   "execution_count": 33
  },
  {
   "cell_type": "code",
   "metadata": {
    "ExecuteTime": {
     "end_time": "2025-10-20T14:38:56.455417Z",
     "start_time": "2025-10-20T14:38:56.453042Z"
    }
   },
   "source": [
    "p17"
   ],
   "outputs": [
    {
     "data": {
      "text/plain": [
       "array([[23. , 20.7, 18.4],\n",
       "       [40.3, 39.3, 38.3],\n",
       "       [41.9, 42.1, 42.3]])"
      ]
     },
     "execution_count": 34,
     "metadata": {},
     "output_type": "execute_result"
    }
   ],
   "execution_count": 34
  },
  {
   "cell_type": "markdown",
   "metadata": {},
   "source": [
    "### Problem 18\n",
    "\n",
    "Set `p18` to the angle $\\theta$ between the vectors in `u18` and `v18`.\n",
    "Use the measure of the angle in radians, not degrees."
   ]
  },
  {
   "cell_type": "markdown",
   "metadata": {},
   "source": [
    "Hint: you can use the cosine similarity to calculate $\\mathrm{cos}~\\theta$.\n",
    "The inverse cosine function to recover the measure of the angle is often called the arc cosine, and both the math and NumPy modules use this for their naming."
   ]
  },
  {
   "cell_type": "code",
   "execution_count": null,
   "metadata": {},
   "outputs": [],
   "source": [
    "# DO NOT CHANGE\n",
    "\n",
    "u18 = np.asarray([0.3, 0.2, 0.9, -0.4])\n",
    "u18"
   ]
  },
  {
   "cell_type": "code",
   "execution_count": null,
   "metadata": {},
   "outputs": [],
   "source": [
    "# DO NOT CHANGE\n",
    "\n",
    "v18 = np.asarray([-0.1, 0.3, 0.6, -0.2])\n",
    "v18"
   ]
  },
  {
   "cell_type": "code",
   "execution_count": null,
   "metadata": {},
   "outputs": [],
   "source": [
    "# YOUR CHANGES HERE\n",
    "\n",
    "p18 = ..."
   ]
  },
  {
   "cell_type": "code",
   "execution_count": null,
   "metadata": {},
   "outputs": [],
   "source": [
    "p18"
   ]
  },
  {
   "cell_type": "markdown",
   "metadata": {},
   "source": [
    "### Problem 19\n",
    "\n",
    "Set `p19` to be the largest magnitude vector from the following list.\n",
    "\n",
    "* $[0.1, 0.3, 0.9, -0.8]$\n",
    "* $[0.2, 0.2, 0.7, 0.6]$\n",
    "* $[-0.2, 0.2, 0.7, -0.6]$\n",
    "* $[1.0, 1.0, 0.4, 0.5]$"
   ]
  },
  {
   "cell_type": "code",
   "metadata": {
    "ExecuteTime": {
     "end_time": "2025-10-20T14:40:59.052516Z",
     "start_time": "2025-10-20T14:40:59.050186Z"
    }
   },
   "source": [
    "# YOUR CHANGES HERE\n",
    "\n",
    "v1 = [0.1, 0.3, 0.9, -0.8]\n",
    "v2 = [0.2, 0.2, 0.7, 0.6]\n",
    "v3 = [-0.2, 0.2, 0.7, -0.6]\n",
    "v4 = [1.0, 1.0, 0.4, 0.5]\n",
    "\n",
    "print(np.linalg.norm(v1))\n",
    "print(np.linalg.norm(v2))\n",
    "print(np.linalg.norm(v3))\n",
    "print(np.linalg.norm(v4))\n",
    "\n",
    "p19 = v4"
   ],
   "outputs": [
    {
     "name": "stdout",
     "output_type": "stream",
     "text": [
      "1.2449899597988734\n",
      "0.9643650760992954\n",
      "0.9643650760992954\n",
      "1.5524174696260025\n"
     ]
    }
   ],
   "execution_count": 36
  },
  {
   "cell_type": "code",
   "metadata": {
    "ExecuteTime": {
     "end_time": "2025-10-20T14:41:06.157879Z",
     "start_time": "2025-10-20T14:41:06.154877Z"
    }
   },
   "source": [
    "p19"
   ],
   "outputs": [
    {
     "data": {
      "text/plain": [
       "[1.0, 1.0, 0.4, 0.5]"
      ]
     },
     "execution_count": 37,
     "metadata": {},
     "output_type": "execute_result"
    }
   ],
   "execution_count": 37
  },
  {
   "cell_type": "markdown",
   "metadata": {},
   "source": [
    "### Problem 20\n",
    "\n",
    "Set `p20` to $3 \\mathbf{x} + 5$ where $x$ is stored in `x20`."
   ]
  },
  {
   "cell_type": "code",
   "metadata": {
    "ExecuteTime": {
     "end_time": "2025-10-20T14:41:45.534940Z",
     "start_time": "2025-10-20T14:41:45.533102Z"
    }
   },
   "source": [
    "# DO NOT CHANGE\n",
    "\n",
    "x20 = np.asarray([0.2, 0.5, -0.3, 0.8])"
   ],
   "outputs": [],
   "execution_count": 38
  },
  {
   "cell_type": "code",
   "metadata": {
    "ExecuteTime": {
     "end_time": "2025-10-20T14:41:46.389406Z",
     "start_time": "2025-10-20T14:41:46.387402Z"
    }
   },
   "source": [
    "# YOUR CHANGES HERE\n",
    "\n",
    "def find_x(x):\n",
    "    return 3 * x + 5\n",
    "\n",
    "p20 = find_x(x20)"
   ],
   "outputs": [],
   "execution_count": 39
  },
  {
   "cell_type": "code",
   "metadata": {
    "ExecuteTime": {
     "end_time": "2025-10-20T14:41:47.329961Z",
     "start_time": "2025-10-20T14:41:47.326954Z"
    }
   },
   "source": [
    "p20"
   ],
   "outputs": [
    {
     "data": {
      "text/plain": [
       "array([5.6, 6.5, 4.1, 7.4])"
      ]
     },
     "execution_count": 40,
     "metadata": {},
     "output_type": "execute_result"
    }
   ],
   "execution_count": 40
  },
  {
   "cell_type": "markdown",
   "metadata": {},
   "source": [
    "### Generative AI Usage\n",
    "\n",
    "If you used any generative AI tools, please add links to your transcripts below, and any other information that you feel is necessary to comply with the [generative AI policy](https://www.bu.edu/cds-faculty/culture-community/gaia-policy/).\n",
    "If you did not use any generative AI tools, simply write NONE below."
   ]
  },
  {
   "cell_type": "markdown",
   "metadata": {},
   "source": [
    "YOUR ANSWER HERE\n",
    "\n",
    "Problem 8\n",
    "* I wasn’t sure how to work with polar and cartesian coordinates together. I learned how to convert from polar to cartesian coordinates and that you had to use np.cos for x every time and np.sin for y every time.\n",
    "* https://chatgpt.com/share/68f648ed-8140-800d-97a0-e108f5c2a4d5"
   ]
  }
 ],
 "metadata": {
  "kernelspec": {
   "display_name": "Python 3",
   "language": "python",
   "name": "python3"
  },
  "language_info": {
   "codemirror_mode": {
    "name": "ipython",
    "version": 3
   },
   "file_extension": ".py",
   "mimetype": "text/x-python",
   "name": "python",
   "nbconvert_exporter": "python",
   "pygments_lexer": "ipython3",
   "version": "3.13.0"
  }
 },
 "nbformat": 4,
 "nbformat_minor": 2
}
