{
 "cells": [
  {
   "cell_type": "markdown",
   "metadata": {},
   "source": [
    "# DX 601 Week 9 Homework"
   ]
  },
  {
   "cell_type": "markdown",
   "metadata": {},
   "source": [
    "## Introduction\n",
    "\n",
    "In this homework, you will practice basic operations with vectors and matrices."
   ]
  },
  {
   "cell_type": "markdown",
   "metadata": {},
   "source": [
    "## Example Code\n",
    "\n",
    "You may find it helpful to refer to this GitHub repository of Jupyter notebooks for example code.\n",
    "\n",
    "* https://github.com/bu-cds-omds/dx500-examples\n",
    "* https://github.com/bu-cds-omds/dx601-examples\n",
    "* https://github.com/bu-cds-omds/dx602-examples\n",
    "\n",
    "Any calculations demonstrated in code examples or videos may be found in these notebooks, and you are allowed to copy this example code in your homework answers."
   ]
  },
  {
   "cell_type": "markdown",
   "metadata": {},
   "source": [
    "## Shared Imports\n",
    "\n",
    "Do not install or use any additional modules.\n",
    "Installing additional modules may result in an autograder failure resulting in zero points for some or all problems."
   ]
  },
  {
   "cell_type": "code",
   "metadata": {
    "ExecuteTime": {
     "end_time": "2025-10-24T13:06:05.612808Z",
     "start_time": "2025-10-24T13:06:05.611021Z"
    }
   },
   "source": [
    "import math\n",
    "import sys"
   ],
   "outputs": [],
   "execution_count": 70
  },
  {
   "cell_type": "code",
   "metadata": {
    "ExecuteTime": {
     "end_time": "2025-10-24T13:06:06.765174Z",
     "start_time": "2025-10-24T13:06:06.763454Z"
    }
   },
   "source": [
    "import matplotlib.pyplot as plt\n",
    "import numpy as np\n",
    "import pandas as pd"
   ],
   "outputs": [],
   "execution_count": 71
  },
  {
   "cell_type": "markdown",
   "metadata": {},
   "source": [
    "## Problems"
   ]
  },
  {
   "cell_type": "markdown",
   "metadata": {},
   "source": [
    "### Problem 1\n",
    "\n",
    "Set `p1` to the vector from calculating $[0.0, 0.3, 0.65] + [2.2, 6.2, 0.35]$."
   ]
  },
  {
   "cell_type": "code",
   "metadata": {
    "ExecuteTime": {
     "end_time": "2025-10-20T13:48:47.825732Z",
     "start_time": "2025-10-20T13:48:47.823425Z"
    }
   },
   "source": [
    "# YOUR CHANGES HERE\n",
    "\n",
    "v1 = np.array([0.0, 0.3, 0.65])\n",
    "v2 = np.array([2.2, 6.2, 0.35])\n",
    "\n",
    "p1 = v1 + v2"
   ],
   "outputs": [],
   "execution_count": 3
  },
  {
   "cell_type": "code",
   "metadata": {
    "ExecuteTime": {
     "end_time": "2025-10-20T13:48:48.854936Z",
     "start_time": "2025-10-20T13:48:48.850989Z"
    }
   },
   "source": [
    "p1"
   ],
   "outputs": [
    {
     "data": {
      "text/plain": [
       "array([2.2, 6.5, 1. ])"
      ]
     },
     "execution_count": 4,
     "metadata": {},
     "output_type": "execute_result"
    }
   ],
   "execution_count": 4
  },
  {
   "cell_type": "markdown",
   "metadata": {},
   "source": [
    "### Problem 2\n",
    "\n",
    "Set `p2` to the magnitude of the vector $[1, 3, 6]$?"
   ]
  },
  {
   "cell_type": "code",
   "metadata": {
    "ExecuteTime": {
     "end_time": "2025-10-20T13:50:07.623172Z",
     "start_time": "2025-10-20T13:50:07.620682Z"
    }
   },
   "source": [
    "# YOUR CHANGES HERE\n",
    "\n",
    "v1 = np.array([1, 3, 6])\n",
    "\n",
    "p2 = np.linalg.norm(v1)"
   ],
   "outputs": [],
   "execution_count": 5
  },
  {
   "cell_type": "code",
   "metadata": {
    "ExecuteTime": {
     "end_time": "2025-10-20T13:50:08.970602Z",
     "start_time": "2025-10-20T13:50:08.967912Z"
    }
   },
   "source": [
    "p2"
   ],
   "outputs": [
    {
     "data": {
      "text/plain": [
       "np.float64(6.782329983125268)"
      ]
     },
     "execution_count": 6,
     "metadata": {},
     "output_type": "execute_result"
    }
   ],
   "execution_count": 6
  },
  {
   "cell_type": "markdown",
   "metadata": {},
   "source": [
    "### Problem 3\n",
    "\n",
    "Set `p3` to the magnitude of the vector `q3`."
   ]
  },
  {
   "cell_type": "code",
   "metadata": {
    "ExecuteTime": {
     "end_time": "2025-10-20T13:50:40.042228Z",
     "start_time": "2025-10-20T13:50:40.039686Z"
    }
   },
   "source": [
    "# DO NOT CHANGE\n",
    "\n",
    "q3 = np.asarray([5.2, 5.9, 9.1, 4.3, 2.9])\n",
    "q3"
   ],
   "outputs": [
    {
     "data": {
      "text/plain": [
       "array([5.2, 5.9, 9.1, 4.3, 2.9])"
      ]
     },
     "execution_count": 7,
     "metadata": {},
     "output_type": "execute_result"
    }
   ],
   "execution_count": 7
  },
  {
   "cell_type": "code",
   "metadata": {
    "ExecuteTime": {
     "end_time": "2025-10-20T13:50:47.412125Z",
     "start_time": "2025-10-20T13:50:47.410293Z"
    }
   },
   "source": [
    "# YOUR CHANGES HERE\n",
    "\n",
    "p3 = np.linalg.norm(q3)"
   ],
   "outputs": [],
   "execution_count": 8
  },
  {
   "cell_type": "code",
   "metadata": {
    "ExecuteTime": {
     "end_time": "2025-10-20T13:50:48.779350Z",
     "start_time": "2025-10-20T13:50:48.776513Z"
    }
   },
   "source": [
    "p3"
   ],
   "outputs": [
    {
     "data": {
      "text/plain": [
       "np.float64(13.098091464026353)"
      ]
     },
     "execution_count": 9,
     "metadata": {},
     "output_type": "execute_result"
    }
   ],
   "execution_count": 9
  },
  {
   "cell_type": "markdown",
   "metadata": {},
   "source": [
    "### Problem 4\n",
    "\n",
    "Set `p4` to the dot product of $[2, 0, 3]$ and $[0, 4, 1]$."
   ]
  },
  {
   "cell_type": "markdown",
   "metadata": {},
   "source": [
    "Hint: this should feel like a really easy case to just do in your head."
   ]
  },
  {
   "cell_type": "code",
   "metadata": {
    "ExecuteTime": {
     "end_time": "2025-10-20T13:52:40.997855Z",
     "start_time": "2025-10-20T13:52:40.995454Z"
    }
   },
   "source": [
    "# YOUR CHANGES HERE\n",
    "\n",
    "v1 = np.array([2, 0, 3])\n",
    "v2 = np.array([0, 4, 1])\n",
    "\n",
    "p4 = v1 @ v2"
   ],
   "outputs": [],
   "execution_count": 10
  },
  {
   "cell_type": "code",
   "metadata": {
    "ExecuteTime": {
     "end_time": "2025-10-20T13:52:42.536799Z",
     "start_time": "2025-10-20T13:52:42.534078Z"
    }
   },
   "source": [
    "p4"
   ],
   "outputs": [
    {
     "data": {
      "text/plain": [
       "np.int64(3)"
      ]
     },
     "execution_count": 11,
     "metadata": {},
     "output_type": "execute_result"
    }
   ],
   "execution_count": 11
  },
  {
   "cell_type": "markdown",
   "metadata": {},
   "source": [
    "### Problem 5\n",
    "\n",
    "Set `p5` to the element-wise product of `u5` and `v5`."
   ]
  },
  {
   "cell_type": "markdown",
   "metadata": {},
   "source": [
    "Hint: the default behavior of mathematical operations on NumPy arrays is to calculate on an element-wise basis."
   ]
  },
  {
   "cell_type": "code",
   "metadata": {
    "ExecuteTime": {
     "end_time": "2025-10-20T13:55:38.040472Z",
     "start_time": "2025-10-20T13:55:38.037395Z"
    }
   },
   "source": [
    "# DO NOT CHANGE\n",
    "\n",
    "u5 = np.asarray([5, 5, 5])\n",
    "u5"
   ],
   "outputs": [
    {
     "data": {
      "text/plain": [
       "array([5, 5, 5])"
      ]
     },
     "execution_count": 12,
     "metadata": {},
     "output_type": "execute_result"
    }
   ],
   "execution_count": 12
  },
  {
   "cell_type": "code",
   "metadata": {
    "ExecuteTime": {
     "end_time": "2025-10-20T13:55:39.292753Z",
     "start_time": "2025-10-20T13:55:39.290227Z"
    }
   },
   "source": [
    "# DO NOT CHANGE\n",
    "\n",
    "v5 = np.asarray([1, 6, 2])\n",
    "v5"
   ],
   "outputs": [
    {
     "data": {
      "text/plain": [
       "array([1, 6, 2])"
      ]
     },
     "execution_count": 13,
     "metadata": {},
     "output_type": "execute_result"
    }
   ],
   "execution_count": 13
  },
  {
   "cell_type": "code",
   "metadata": {
    "ExecuteTime": {
     "end_time": "2025-10-20T13:58:16.230111Z",
     "start_time": "2025-10-20T13:58:16.228308Z"
    }
   },
   "source": [
    "# YOUR CHANGES HERE\n",
    "\n",
    "p5 = u5 * v5"
   ],
   "outputs": [],
   "execution_count": 14
  },
  {
   "cell_type": "code",
   "metadata": {
    "ExecuteTime": {
     "end_time": "2025-10-20T13:58:17.412169Z",
     "start_time": "2025-10-20T13:58:17.409456Z"
    }
   },
   "source": [
    "p5"
   ],
   "outputs": [
    {
     "data": {
      "text/plain": [
       "array([ 5, 30, 10])"
      ]
     },
     "execution_count": 15,
     "metadata": {},
     "output_type": "execute_result"
    }
   ],
   "execution_count": 15
  },
  {
   "cell_type": "markdown",
   "metadata": {},
   "source": [
    "### Problem 6\n",
    "\n",
    "Set `p6` to the dot product of `u6` and `v6`."
   ]
  },
  {
   "cell_type": "code",
   "metadata": {
    "ExecuteTime": {
     "end_time": "2025-10-20T13:58:21.217434Z",
     "start_time": "2025-10-20T13:58:21.214112Z"
    }
   },
   "source": [
    "# DO NOT CHANGE\n",
    "\n",
    "u6 = np.asarray([2.03, 0.40, 1.35, 9.26, 4.23])\n",
    "u6"
   ],
   "outputs": [
    {
     "data": {
      "text/plain": [
       "array([2.03, 0.4 , 1.35, 9.26, 4.23])"
      ]
     },
     "execution_count": 16,
     "metadata": {},
     "output_type": "execute_result"
    }
   ],
   "execution_count": 16
  },
  {
   "cell_type": "code",
   "metadata": {
    "ExecuteTime": {
     "end_time": "2025-10-20T13:58:22.372988Z",
     "start_time": "2025-10-20T13:58:22.369840Z"
    }
   },
   "source": [
    "# DO NOT CHANGE\n",
    "\n",
    "v6 = np.asarray([1.32, 0.96, 2.35, 1.23, 0.25])\n",
    "v6"
   ],
   "outputs": [
    {
     "data": {
      "text/plain": [
       "array([1.32, 0.96, 2.35, 1.23, 0.25])"
      ]
     },
     "execution_count": 17,
     "metadata": {},
     "output_type": "execute_result"
    }
   ],
   "execution_count": 17
  },
  {
   "cell_type": "code",
   "metadata": {
    "ExecuteTime": {
     "end_time": "2025-10-20T13:58:30.007264Z",
     "start_time": "2025-10-20T13:58:30.005449Z"
    }
   },
   "source": [
    "# YOUR CHANGES HERE\n",
    "\n",
    "p6 = u6 @ v6"
   ],
   "outputs": [],
   "execution_count": 18
  },
  {
   "cell_type": "code",
   "metadata": {
    "ExecuteTime": {
     "end_time": "2025-10-20T13:58:31.922190Z",
     "start_time": "2025-10-20T13:58:31.919148Z"
    }
   },
   "source": [
    "p6"
   ],
   "outputs": [
    {
     "data": {
      "text/plain": [
       "np.float64(18.6834)"
      ]
     },
     "execution_count": 19,
     "metadata": {},
     "output_type": "execute_result"
    }
   ],
   "execution_count": 19
  },
  {
   "cell_type": "markdown",
   "metadata": {},
   "source": [
    "### Problem 7\n",
    "\n",
    "Set `p7` to the cosine similarity of `u7` and `v7`."
   ]
  },
  {
   "cell_type": "code",
   "metadata": {
    "ExecuteTime": {
     "end_time": "2025-10-20T14:09:26.972780Z",
     "start_time": "2025-10-20T14:09:26.969949Z"
    }
   },
   "source": [
    "# DO NOT CHANGE\n",
    "\n",
    "u7 = np.asarray([1, 1, 1, 1])\n",
    "u7"
   ],
   "outputs": [
    {
     "data": {
      "text/plain": [
       "array([1, 1, 1, 1])"
      ]
     },
     "execution_count": 21,
     "metadata": {},
     "output_type": "execute_result"
    }
   ],
   "execution_count": 21
  },
  {
   "cell_type": "code",
   "metadata": {
    "ExecuteTime": {
     "end_time": "2025-10-20T14:09:28.298271Z",
     "start_time": "2025-10-20T14:09:28.295889Z"
    }
   },
   "source": [
    "# DO NOT CHANGE\n",
    "\n",
    "v7 = np.asarray([0, 2, 0, 0])\n",
    "v7"
   ],
   "outputs": [
    {
     "data": {
      "text/plain": [
       "array([0, 2, 0, 0])"
      ]
     },
     "execution_count": 22,
     "metadata": {},
     "output_type": "execute_result"
    }
   ],
   "execution_count": 22
  },
  {
   "cell_type": "code",
   "metadata": {
    "ExecuteTime": {
     "end_time": "2025-10-20T14:09:29.197876Z",
     "start_time": "2025-10-20T14:09:29.195456Z"
    }
   },
   "source": [
    "# YOUR CHANGES HERE\n",
    "\n",
    "def cosine_similarity(a, b):\n",
    "    dot_product = a @ b\n",
    "    magnitude_a = np.linalg.norm(a)\n",
    "    magnitude_b = np.linalg.norm(b)\n",
    "    return dot_product / (magnitude_a * magnitude_b)\n",
    "\n",
    "p7 = cosine_similarity(u7, v7)"
   ],
   "outputs": [],
   "execution_count": 23
  },
  {
   "cell_type": "code",
   "metadata": {
    "ExecuteTime": {
     "end_time": "2025-10-20T14:09:30.376297Z",
     "start_time": "2025-10-20T14:09:30.373751Z"
    }
   },
   "source": [
    "p7"
   ],
   "outputs": [
    {
     "data": {
      "text/plain": [
       "np.float64(0.5)"
      ]
     },
     "execution_count": 24,
     "metadata": {},
     "output_type": "execute_result"
    }
   ],
   "execution_count": 24
  },
  {
   "cell_type": "markdown",
   "metadata": {},
   "source": [
    "### Problem 8\n",
    "\n",
    "Set `p8` to the vector $[x, y]$ corresponding to the polar coordinates $(r, \\theta) = (1, 1)$."
   ]
  },
  {
   "cell_type": "code",
   "metadata": {
    "ExecuteTime": {
     "end_time": "2025-10-24T13:07:42.187599Z",
     "start_time": "2025-10-24T13:07:42.185553Z"
    }
   },
   "source": [
    "# YOUR CHANGES HERE\n",
    "\n",
    "r = 1\n",
    "theta = 1\n",
    "\n",
    "x = r * np.cos(theta)\n",
    "y = r * np.sin(theta)\n",
    "\n",
    "p8 = np.array([x, y])"
   ],
   "outputs": [],
   "execution_count": 72
  },
  {
   "cell_type": "code",
   "metadata": {
    "ExecuteTime": {
     "end_time": "2025-10-24T13:07:43.368691Z",
     "start_time": "2025-10-24T13:07:43.365874Z"
    }
   },
   "source": [
    "p8"
   ],
   "outputs": [
    {
     "data": {
      "text/plain": [
       "array([0.54030231, 0.84147098])"
      ]
     },
     "execution_count": 73,
     "metadata": {},
     "output_type": "execute_result"
    }
   ],
   "execution_count": 73
  },
  {
   "cell_type": "markdown",
   "metadata": {},
   "source": [
    "### Problem 9\n",
    "\n",
    "Set `p9` to the scalar-vector product $3.1 \\cdot [1.31, 2.06, 9.56, 1.79]$."
   ]
  },
  {
   "cell_type": "code",
   "metadata": {
    "ExecuteTime": {
     "end_time": "2025-10-21T13:49:04.562377Z",
     "start_time": "2025-10-21T13:49:04.560569Z"
    }
   },
   "source": [
    "# YOUR CHANGES HERE\n",
    "\n",
    "scalar = 3.1\n",
    "vector = np.array([1.31, 2.06, 9.56, 1.79])\n",
    "\n",
    "p9 = scalar * vector"
   ],
   "outputs": [],
   "execution_count": 41
  },
  {
   "cell_type": "code",
   "metadata": {
    "ExecuteTime": {
     "end_time": "2025-10-21T13:49:05.499459Z",
     "start_time": "2025-10-21T13:49:05.496909Z"
    }
   },
   "source": [
    "p9"
   ],
   "outputs": [
    {
     "data": {
      "text/plain": [
       "array([ 4.061,  6.386, 29.636,  5.549])"
      ]
     },
     "execution_count": 42,
     "metadata": {},
     "output_type": "execute_result"
    }
   ],
   "execution_count": 42
  },
  {
   "cell_type": "markdown",
   "metadata": {},
   "source": [
    "### Problem 10\n",
    "\n",
    "Set `p10` to be a unit vector in the same direction as $[1.31, 2.13, -0.92]$.\n"
   ]
  },
  {
   "cell_type": "code",
   "metadata": {
    "ExecuteTime": {
     "end_time": "2025-10-21T13:50:36.156086Z",
     "start_time": "2025-10-21T13:50:36.154217Z"
    }
   },
   "source": [
    "# YOUR CHANGES HERE\n",
    "\n",
    "arr = np.array([1.31, 2.13, -0.92])\n",
    "magnitude = np.linalg.norm(arr)\n",
    "unit_vector = arr / magnitude\n",
    "\n",
    "p10 = unit_vector"
   ],
   "outputs": [],
   "execution_count": 43
  },
  {
   "cell_type": "code",
   "metadata": {
    "ExecuteTime": {
     "end_time": "2025-10-21T13:50:37.332827Z",
     "start_time": "2025-10-21T13:50:37.330172Z"
    }
   },
   "source": [
    "p10"
   ],
   "outputs": [
    {
     "data": {
      "text/plain": [
       "array([ 0.49165501,  0.79940853, -0.34528444])"
      ]
     },
     "execution_count": 44,
     "metadata": {},
     "output_type": "execute_result"
    }
   ],
   "execution_count": 44
  },
  {
   "cell_type": "markdown",
   "metadata": {},
   "source": [
    "### Problem 11\n",
    "\n",
    "Set `p11` to be the first of the following vectors that is orthogonal to $[1, 0, 0]$.\n",
    "\n",
    "* $[1, 1, 1]$\n",
    "* $[0.5, 1, 1]$\n",
    "* $[0, 1, 1]$\n",
    "* $[1, 0, 1]$"
   ]
  },
  {
   "cell_type": "code",
   "metadata": {
    "ExecuteTime": {
     "end_time": "2025-10-21T14:03:16.228225Z",
     "start_time": "2025-10-21T14:03:16.225436Z"
    }
   },
   "source": [
    "v0 = np.array([1, 0, 0])\n",
    "v1 = np.array([1, 1, 1])\n",
    "v2 = np.array([0, 5, 1, 1])\n",
    "v3 = np.array([0, 1, 1])\n",
    "v4 = np.array([1, 0, 1])\n",
    "\n",
    "print(v0 @ v1)\n",
    "print(v0 @ v3)\n",
    "print(v0 @ v4)\n",
    "\n",
    "p11 = v3"
   ],
   "outputs": [
    {
     "name": "stdout",
     "output_type": "stream",
     "text": [
      "1\n",
      "0\n",
      "1\n"
     ]
    }
   ],
   "execution_count": 48
  },
  {
   "cell_type": "code",
   "metadata": {
    "ExecuteTime": {
     "end_time": "2025-10-21T14:03:17.391501Z",
     "start_time": "2025-10-21T14:03:17.388739Z"
    }
   },
   "source": [
    "p11"
   ],
   "outputs": [
    {
     "data": {
      "text/plain": [
       "array([0, 1, 1])"
      ]
     },
     "execution_count": 49,
     "metadata": {},
     "output_type": "execute_result"
    }
   ],
   "execution_count": 49
  },
  {
   "cell_type": "markdown",
   "metadata": {},
   "source": [
    "### Problem 12\n",
    "\n",
    "Set `p12` to the first vector in the following list which is linearly dependent on the previous vectors.\n",
    "\n",
    "* $[0, 1, 1]$\n",
    "* $[0, 0, 1]$\n",
    "* $[1, 0, 1]$\n",
    "* $[1, 1, 1]$"
   ]
  },
  {
   "cell_type": "code",
   "metadata": {
    "ExecuteTime": {
     "end_time": "2025-10-21T14:28:23.294590Z",
     "start_time": "2025-10-21T14:28:23.291064Z"
    }
   },
   "source": [
    "# YOUR CHANGES HERE\n",
    "\n",
    "vector_arr = np.array([[0, 1, 1],\n",
    "                       [0, 0, 1],\n",
    "                       [1, 0, 1],\n",
    "                       [1, 1, 1]])\n",
    "\n",
    "for row in range(len(vector_arr)):\n",
    "    rows_so_far = vector_arr[:row + 1]\n",
    "    current_rank = np.linalg.matrix_rank(rows_so_far)\n",
    "    row_rank = row + 1\n",
    "    if current_rank < row_rank:\n",
    "        print(f\"{vector_arr[row]} is dependent\")\n",
    "    else:\n",
    "        print(f\"{vector_arr[row]} is NOT dependent\")\n",
    "\n",
    "p12 = np.array([1, 1, 1])"
   ],
   "outputs": [
    {
     "name": "stdout",
     "output_type": "stream",
     "text": [
      "[0 1 1] is NOT dependent\n",
      "[0 0 1] is NOT dependent\n",
      "[1 0 1] is NOT dependent\n",
      "[1 1 1] is dependent\n"
     ]
    }
   ],
   "execution_count": 53
  },
  {
   "cell_type": "code",
   "metadata": {
    "ExecuteTime": {
     "end_time": "2025-10-21T14:28:24.655446Z",
     "start_time": "2025-10-21T14:28:24.651645Z"
    }
   },
   "source": [
    "p12"
   ],
   "outputs": [
    {
     "data": {
      "text/plain": [
       "array([1, 1, 1])"
      ]
     },
     "execution_count": 54,
     "metadata": {},
     "output_type": "execute_result"
    }
   ],
   "execution_count": 54
  },
  {
   "cell_type": "markdown",
   "metadata": {},
   "source": [
    "### Problem 13\n",
    "\n",
    "Set `p13` to the $3 \\times 3$ identity matrix."
   ]
  },
  {
   "cell_type": "code",
   "metadata": {
    "ExecuteTime": {
     "end_time": "2025-10-21T14:31:44.076829Z",
     "start_time": "2025-10-21T14:31:44.075063Z"
    }
   },
   "source": [
    "# YOUR CHANGES HERE\n",
    "\n",
    "p13 = np.eye(3)"
   ],
   "outputs": [],
   "execution_count": 55
  },
  {
   "cell_type": "code",
   "metadata": {
    "ExecuteTime": {
     "end_time": "2025-10-21T14:31:45.075383Z",
     "start_time": "2025-10-21T14:31:45.072640Z"
    }
   },
   "source": [
    "p13"
   ],
   "outputs": [
    {
     "data": {
      "text/plain": [
       "array([[1., 0., 0.],\n",
       "       [0., 1., 0.],\n",
       "       [0., 0., 1.]])"
      ]
     },
     "execution_count": 56,
     "metadata": {},
     "output_type": "execute_result"
    }
   ],
   "execution_count": 56
  },
  {
   "cell_type": "markdown",
   "metadata": {},
   "source": [
    "### Problem 14\n",
    "\n",
    "Set `p14` to the x intercept of the equation $3y + 5x = 2$."
   ]
  },
  {
   "cell_type": "code",
   "metadata": {
    "ExecuteTime": {
     "end_time": "2025-10-24T13:11:29.779845Z",
     "start_time": "2025-10-24T13:11:29.777901Z"
    }
   },
   "source": [
    "# YOUR CHANGES HERE\n",
    "\n",
    "p14 = 2/5"
   ],
   "outputs": [],
   "execution_count": 74
  },
  {
   "cell_type": "code",
   "metadata": {
    "ExecuteTime": {
     "end_time": "2025-10-24T13:11:30.782355Z",
     "start_time": "2025-10-24T13:11:30.780105Z"
    }
   },
   "source": [
    "p14"
   ],
   "outputs": [
    {
     "data": {
      "text/plain": [
       "0.4"
      ]
     },
     "execution_count": 75,
     "metadata": {},
     "output_type": "execute_result"
    }
   ],
   "execution_count": 75
  },
  {
   "cell_type": "markdown",
   "metadata": {},
   "source": [
    "### Problem 15\n",
    "\n",
    "Given the dictionary of phrases and vectors in `q15`, set `p15` to the phrase (key) whose vector has the highest cosine similarity with $[0.1, 0.5, 0.2]$."
   ]
  },
  {
   "cell_type": "code",
   "metadata": {
    "ExecuteTime": {
     "end_time": "2025-10-21T14:31:50.906469Z",
     "start_time": "2025-10-21T14:31:50.902760Z"
    }
   },
   "source": [
    "# DO NOT CHANGE\n",
    "\n",
    "q15 = {\n",
    "    \"cat\": [0.1, 0.6, 0.3],\n",
    "    \"dog\": [0.2, 0.5, 0.1],\n",
    "    \"elephant\": [-0.3, 0.2, 0.5],\n",
    "    \"giraffe\": [-0.4, 0.3, -0.1],\n",
    "    \"lion\": [0.1, 0.7, 0.2]\n",
    "}\n",
    "q15 = {k: np.asarray(v) for k, v in q15.items()}\n",
    "\n",
    "q15"
   ],
   "outputs": [
    {
     "data": {
      "text/plain": [
       "{'cat': array([0.1, 0.6, 0.3]),\n",
       " 'dog': array([0.2, 0.5, 0.1]),\n",
       " 'elephant': array([-0.3,  0.2,  0.5]),\n",
       " 'giraffe': array([-0.4,  0.3, -0.1]),\n",
       " 'lion': array([0.1, 0.7, 0.2])}"
      ]
     },
     "execution_count": 57,
     "metadata": {},
     "output_type": "execute_result"
    }
   ],
   "execution_count": 57
  },
  {
   "cell_type": "code",
   "metadata": {
    "ExecuteTime": {
     "end_time": "2025-10-21T14:35:33.209424Z",
     "start_time": "2025-10-21T14:35:33.206234Z"
    }
   },
   "source": [
    "# YOUR CHANGES HERE\n",
    "\n",
    "def cosine_similarity(a, b):\n",
    "    dot_product = a @ b\n",
    "    magnitude_a = np.linalg.norm(a)\n",
    "    magnitude_b = np.linalg.norm(b)\n",
    "    return dot_product / (magnitude_a * magnitude_b)\n",
    "\n",
    "target_arr = np.array([0.1, 0.5, 0.2])\n",
    "\n",
    "highest_cosine_similarity = 0\n",
    "highest_cosine_similarity_key = \"\"\n",
    "for k, v in q15.items():\n",
    "    current_cosine_similarity = cosine_similarity(target_arr, v)\n",
    "    if current_cosine_similarity > highest_cosine_similarity:\n",
    "        highest_cosine_similarity = current_cosine_similarity\n",
    "        highest_cosine_similarity_key = k\n",
    "\n",
    "p15 = highest_cosine_similarity_key"
   ],
   "outputs": [],
   "execution_count": 59
  },
  {
   "cell_type": "code",
   "metadata": {
    "ExecuteTime": {
     "end_time": "2025-10-21T14:35:34.894002Z",
     "start_time": "2025-10-21T14:35:34.891418Z"
    }
   },
   "source": [
    "p15"
   ],
   "outputs": [
    {
     "data": {
      "text/plain": [
       "'cat'"
      ]
     },
     "execution_count": 60,
     "metadata": {},
     "output_type": "execute_result"
    }
   ],
   "execution_count": 60
  },
  {
   "cell_type": "markdown",
   "metadata": {},
   "source": [
    "### Problem 16\n",
    "\n",
    "Rescale the vectors $[2, 0, 0, 0]$ and $[0, 1, 1, 1]$ so that they are orthonormal.\n",
    "\n",
    "Save the first rescaled vector in `p16a` and the second rescaled vector in `p16b`."
   ]
  },
  {
   "cell_type": "code",
   "metadata": {
    "ExecuteTime": {
     "end_time": "2025-10-21T15:21:33.985210Z",
     "start_time": "2025-10-21T15:21:33.982739Z"
    }
   },
   "source": [
    "# YOUR CHANGES HERE\n",
    "\n",
    "v1 = np.array([2, 0, 0, 0])\n",
    "v2 = np.array([0, 1, 1, 1])\n",
    "\n",
    "print(v1 @ v2)\n",
    "\n",
    "p16a = v1 / np.linalg.norm(v1)"
   ],
   "outputs": [
    {
     "name": "stdout",
     "output_type": "stream",
     "text": [
      "0\n"
     ]
    }
   ],
   "execution_count": 65
  },
  {
   "cell_type": "code",
   "metadata": {
    "ExecuteTime": {
     "end_time": "2025-10-21T15:14:14.418978Z",
     "start_time": "2025-10-21T15:14:14.416232Z"
    }
   },
   "source": [
    "p16a"
   ],
   "outputs": [
    {
     "data": {
      "text/plain": [
       "array([1., 0., 0., 0.])"
      ]
     },
     "execution_count": 62,
     "metadata": {},
     "output_type": "execute_result"
    }
   ],
   "execution_count": 62
  },
  {
   "cell_type": "code",
   "metadata": {
    "ExecuteTime": {
     "end_time": "2025-10-21T15:14:34.082077Z",
     "start_time": "2025-10-21T15:14:34.080291Z"
    }
   },
   "source": [
    "# YOUR CHANGES HERE\n",
    "\n",
    "p16b = v2 / np.linalg.norm(v2)"
   ],
   "outputs": [],
   "execution_count": 63
  },
  {
   "cell_type": "code",
   "metadata": {
    "ExecuteTime": {
     "end_time": "2025-10-21T15:14:35.193967Z",
     "start_time": "2025-10-21T15:14:35.191025Z"
    }
   },
   "source": [
    "p16b"
   ],
   "outputs": [
    {
     "data": {
      "text/plain": [
       "array([0.        , 0.57735027, 0.57735027, 0.57735027])"
      ]
     },
     "execution_count": 64,
     "metadata": {},
     "output_type": "execute_result"
    }
   ],
   "execution_count": 64
  },
  {
   "cell_type": "markdown",
   "metadata": {},
   "source": [
    "### Problem 17\n",
    "\n",
    "Set `p17` to the result of the matrix multiplication of `x17` by `y17`."
   ]
  },
  {
   "cell_type": "markdown",
   "metadata": {},
   "source": [
    "Hint: NumPy has a function for matrix multiplication, and also overrides the Python @ operator."
   ]
  },
  {
   "cell_type": "code",
   "metadata": {
    "ExecuteTime": {
     "end_time": "2025-10-20T14:38:41.535205Z",
     "start_time": "2025-10-20T14:38:41.532576Z"
    }
   },
   "source": [
    "# DO NOT CHANGE\n",
    "\n",
    "x17 = np.array([[0.2, 3.1, 0.6], [-2.9, 2.3, 4.2], [3.0, 4.5, 1.7]])\n",
    "x17"
   ],
   "outputs": [
    {
     "data": {
      "text/plain": [
       "array([[ 0.2,  3.1,  0.6],\n",
       "       [-2.9,  2.3,  4.2],\n",
       "       [ 3. ,  4.5,  1.7]])"
      ]
     },
     "execution_count": 31,
     "metadata": {},
     "output_type": "execute_result"
    }
   ],
   "execution_count": 31
  },
  {
   "cell_type": "code",
   "metadata": {
    "ExecuteTime": {
     "end_time": "2025-10-20T14:38:43.523244Z",
     "start_time": "2025-10-20T14:38:43.520411Z"
    }
   },
   "source": [
    "# DO NOT CHANGE\n",
    "\n",
    "y17 = np.array([[1, 2, 3], [6, 5, 4], [7, 8, 9]])\n",
    "y17"
   ],
   "outputs": [
    {
     "data": {
      "text/plain": [
       "array([[1, 2, 3],\n",
       "       [6, 5, 4],\n",
       "       [7, 8, 9]])"
      ]
     },
     "execution_count": 32,
     "metadata": {},
     "output_type": "execute_result"
    }
   ],
   "execution_count": 32
  },
  {
   "cell_type": "code",
   "metadata": {
    "ExecuteTime": {
     "end_time": "2025-10-20T14:38:54.884995Z",
     "start_time": "2025-10-20T14:38:54.883396Z"
    }
   },
   "source": [
    "# YOUR CHANGES HERE\n",
    "\n",
    "p17 = x17 @ y17"
   ],
   "outputs": [],
   "execution_count": 33
  },
  {
   "cell_type": "code",
   "metadata": {
    "ExecuteTime": {
     "end_time": "2025-10-20T14:38:56.455417Z",
     "start_time": "2025-10-20T14:38:56.453042Z"
    }
   },
   "source": [
    "p17"
   ],
   "outputs": [
    {
     "data": {
      "text/plain": [
       "array([[23. , 20.7, 18.4],\n",
       "       [40.3, 39.3, 38.3],\n",
       "       [41.9, 42.1, 42.3]])"
      ]
     },
     "execution_count": 34,
     "metadata": {},
     "output_type": "execute_result"
    }
   ],
   "execution_count": 34
  },
  {
   "cell_type": "markdown",
   "metadata": {},
   "source": [
    "### Problem 18\n",
    "\n",
    "Set `p18` to the angle $\\theta$ between the vectors in `u18` and `v18`.\n",
    "Use the measure of the angle in radians, not degrees."
   ]
  },
  {
   "cell_type": "markdown",
   "metadata": {},
   "source": [
    "Hint: you can use the cosine similarity to calculate $\\mathrm{cos}~\\theta$.\n",
    "The inverse cosine function to recover the measure of the angle is often called the arc cosine, and both the math and NumPy modules use this for their naming."
   ]
  },
  {
   "cell_type": "code",
   "metadata": {
    "ExecuteTime": {
     "end_time": "2025-10-22T13:25:01.742508Z",
     "start_time": "2025-10-22T13:25:01.739907Z"
    }
   },
   "source": [
    "# DO NOT CHANGE\n",
    "\n",
    "u18 = np.asarray([0.3, 0.2, 0.9, -0.4])\n",
    "u18"
   ],
   "outputs": [
    {
     "data": {
      "text/plain": [
       "array([ 0.3,  0.2,  0.9, -0.4])"
      ]
     },
     "execution_count": 66,
     "metadata": {},
     "output_type": "execute_result"
    }
   ],
   "execution_count": 66
  },
  {
   "cell_type": "code",
   "metadata": {
    "ExecuteTime": {
     "end_time": "2025-10-22T13:25:03.257951Z",
     "start_time": "2025-10-22T13:25:03.254580Z"
    }
   },
   "source": [
    "# DO NOT CHANGE\n",
    "\n",
    "v18 = np.asarray([-0.1, 0.3, 0.6, -0.2])\n",
    "v18"
   ],
   "outputs": [
    {
     "data": {
      "text/plain": [
       "array([-0.1,  0.3,  0.6, -0.2])"
      ]
     },
     "execution_count": 67,
     "metadata": {},
     "output_type": "execute_result"
    }
   ],
   "execution_count": 67
  },
  {
   "cell_type": "code",
   "metadata": {
    "ExecuteTime": {
     "end_time": "2025-10-24T13:15:59.383256Z",
     "start_time": "2025-10-24T13:15:59.381096Z"
    }
   },
   "source": [
    "# YOUR CHANGES HERE\n",
    "\n",
    "def angle_between_vector(v1, v2):\n",
    "    dot_product = v1 @ v2\n",
    "    magnitude_a = np.linalg.norm(v1)\n",
    "    magnitude_b = np.linalg.norm(v2)\n",
    "\n",
    "    cosine_theta = dot_product / (magnitude_a * magnitude_b)\n",
    "\n",
    "    return np.arccos(cosine_theta)\n",
    "\n",
    "p18 = angle_between_vector(u18, v18)"
   ],
   "outputs": [],
   "execution_count": 76
  },
  {
   "cell_type": "code",
   "metadata": {
    "ExecuteTime": {
     "end_time": "2025-10-24T13:16:01.126601Z",
     "start_time": "2025-10-24T13:16:01.123826Z"
    }
   },
   "source": [
    "p18"
   ],
   "outputs": [
    {
     "data": {
      "text/plain": [
       "np.float64(0.5023368499123668)"
      ]
     },
     "execution_count": 77,
     "metadata": {},
     "output_type": "execute_result"
    }
   ],
   "execution_count": 77
  },
  {
   "cell_type": "markdown",
   "metadata": {},
   "source": [
    "### Problem 19\n",
    "\n",
    "Set `p19` to be the largest magnitude vector from the following list.\n",
    "\n",
    "* $[0.1, 0.3, 0.9, -0.8]$\n",
    "* $[0.2, 0.2, 0.7, 0.6]$\n",
    "* $[-0.2, 0.2, 0.7, -0.6]$\n",
    "* $[1.0, 1.0, 0.4, 0.5]$"
   ]
  },
  {
   "cell_type": "code",
   "metadata": {
    "ExecuteTime": {
     "end_time": "2025-10-20T14:40:59.052516Z",
     "start_time": "2025-10-20T14:40:59.050186Z"
    }
   },
   "source": [
    "# YOUR CHANGES HERE\n",
    "\n",
    "v1 = [0.1, 0.3, 0.9, -0.8]\n",
    "v2 = [0.2, 0.2, 0.7, 0.6]\n",
    "v3 = [-0.2, 0.2, 0.7, -0.6]\n",
    "v4 = [1.0, 1.0, 0.4, 0.5]\n",
    "\n",
    "print(np.linalg.norm(v1))\n",
    "print(np.linalg.norm(v2))\n",
    "print(np.linalg.norm(v3))\n",
    "print(np.linalg.norm(v4))\n",
    "\n",
    "p19 = v4"
   ],
   "outputs": [
    {
     "name": "stdout",
     "output_type": "stream",
     "text": [
      "1.2449899597988734\n",
      "0.9643650760992954\n",
      "0.9643650760992954\n",
      "1.5524174696260025\n"
     ]
    }
   ],
   "execution_count": 36
  },
  {
   "cell_type": "code",
   "metadata": {
    "ExecuteTime": {
     "end_time": "2025-10-20T14:41:06.157879Z",
     "start_time": "2025-10-20T14:41:06.154877Z"
    }
   },
   "source": [
    "p19"
   ],
   "outputs": [
    {
     "data": {
      "text/plain": [
       "[1.0, 1.0, 0.4, 0.5]"
      ]
     },
     "execution_count": 37,
     "metadata": {},
     "output_type": "execute_result"
    }
   ],
   "execution_count": 37
  },
  {
   "cell_type": "markdown",
   "metadata": {},
   "source": [
    "### Problem 20\n",
    "\n",
    "Set `p20` to $3 \\mathbf{x} + 5$ where $x$ is stored in `x20`."
   ]
  },
  {
   "cell_type": "code",
   "metadata": {
    "ExecuteTime": {
     "end_time": "2025-10-20T14:41:45.534940Z",
     "start_time": "2025-10-20T14:41:45.533102Z"
    }
   },
   "source": [
    "# DO NOT CHANGE\n",
    "\n",
    "x20 = np.asarray([0.2, 0.5, -0.3, 0.8])"
   ],
   "outputs": [],
   "execution_count": 38
  },
  {
   "cell_type": "code",
   "metadata": {
    "ExecuteTime": {
     "end_time": "2025-10-20T14:41:46.389406Z",
     "start_time": "2025-10-20T14:41:46.387402Z"
    }
   },
   "source": [
    "# YOUR CHANGES HERE\n",
    "\n",
    "def find_x(x):\n",
    "    return 3 * x + 5\n",
    "\n",
    "p20 = find_x(x20)"
   ],
   "outputs": [],
   "execution_count": 39
  },
  {
   "cell_type": "code",
   "metadata": {
    "ExecuteTime": {
     "end_time": "2025-10-20T14:41:47.329961Z",
     "start_time": "2025-10-20T14:41:47.326954Z"
    }
   },
   "source": [
    "p20"
   ],
   "outputs": [
    {
     "data": {
      "text/plain": [
       "array([5.6, 6.5, 4.1, 7.4])"
      ]
     },
     "execution_count": 40,
     "metadata": {},
     "output_type": "execute_result"
    }
   ],
   "execution_count": 40
  },
  {
   "cell_type": "markdown",
   "metadata": {},
   "source": [
    "### Generative AI Usage\n",
    "\n",
    "If you used any generative AI tools, please add links to your transcripts below, and any other information that you feel is necessary to comply with the [generative AI policy](https://www.bu.edu/cds-faculty/culture-community/gaia-policy/).\n",
    "If you did not use any generative AI tools, simply write NONE below."
   ]
  },
  {
   "cell_type": "markdown",
   "metadata": {},
   "source": [
    "YOUR ANSWER HERE\n",
    "\n",
    "Problem 8\n",
    "* I wasn’t sure how to work with polar and cartesian coordinates together. I learned how to convert from polar to cartesian coordinates and that you had to use np.cos for x every time and np.sin for y every time.\n",
    "* https://chatgpt.com/share/68f648ed-8140-800d-97a0-e108f5c2a4d5\n",
    "\n",
    "Problem 12\n",
    "* I wasn’t sure how to find when the vector was dependent. I knew that I had to use np.linalg.matrix_rank after some googling, but wasn’t sure what to do after that.\n",
    "* https://chatgpt.com/share/68f7a3f2-c6d0-800d-b085-e0f78ea42450\n",
    "\n",
    "Problem 16\n",
    "* I didn’t know how to find the orthonormal. I realized that the vectors were already orthogonal so all I had to do was normalize them.\n",
    "* https://chatgpt.com/share/68f7a58b-0c10-800d-a3e6-59752a5d3ed2"
   ]
  }
 ],
 "metadata": {
  "kernelspec": {
   "display_name": "Python 3",
   "language": "python",
   "name": "python3"
  },
  "language_info": {
   "codemirror_mode": {
    "name": "ipython",
    "version": 3
   },
   "file_extension": ".py",
   "mimetype": "text/x-python",
   "name": "python",
   "nbconvert_exporter": "python",
   "pygments_lexer": "ipython3",
   "version": "3.13.0"
  }
 },
 "nbformat": 4,
 "nbformat_minor": 2
}
